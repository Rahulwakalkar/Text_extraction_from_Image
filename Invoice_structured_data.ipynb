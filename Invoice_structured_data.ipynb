{
  "nbformat": 4,
  "nbformat_minor": 0,
  "metadata": {
    "colab": {
      "provenance": [],
      "authorship_tag": "ABX9TyPKcj8qiDaudAreVR3cNiEL",
      "include_colab_link": true
    },
    "kernelspec": {
      "name": "python3",
      "display_name": "Python 3"
    },
    "language_info": {
      "name": "python"
    }
  },
  "cells": [
    {
      "cell_type": "markdown",
      "metadata": {
        "id": "view-in-github",
        "colab_type": "text"
      },
      "source": [
        "<a href=\"https://colab.research.google.com/github/Rahulwakalkar/Text_extraction_from_Image/blob/master/Invoice_structured_data.ipynb\" target=\"_parent\"><img src=\"https://colab.research.google.com/assets/colab-badge.svg\" alt=\"Open In Colab\"/></a>"
      ]
    },
    {
      "cell_type": "code",
      "execution_count": 8,
      "metadata": {
        "colab": {
          "base_uri": "https://localhost:8080/"
        },
        "id": "Wah_Mm6KvCLD",
        "outputId": "a61df0ef-5324-4f27-eff8-eda2a98faf6a"
      },
      "outputs": [
        {
          "output_type": "stream",
          "name": "stdout",
          "text": [
            "Mounted at /content/drive\n"
          ]
        }
      ],
      "source": [
        "from google.colab import drive\n",
        "drive.mount(\"/content/drive\")\n"
      ]
    },
    {
      "cell_type": "code",
      "source": [],
      "metadata": {
        "id": "maRMLxP8X5i0"
      },
      "execution_count": null,
      "outputs": []
    },
    {
      "cell_type": "code",
      "source": [
        "%cd /content/drive/My Drive/"
      ],
      "metadata": {
        "colab": {
          "base_uri": "https://localhost:8080/"
        },
        "id": "YoJPWJImZFe0",
        "outputId": "5bf6dcac-1c81-4e22-ea63-50489e233cee"
      },
      "execution_count": 9,
      "outputs": [
        {
          "output_type": "stream",
          "name": "stdout",
          "text": [
            "/content/drive/My Drive\n"
          ]
        }
      ]
    },
    {
      "cell_type": "code",
      "source": [
        "import re\n",
        "import json\n",
        "\n",
        "# Open and read the text file\n",
        "with open('/content/drive/My Drive/PML/extracted_data.json', 'r', encoding='utf-8') as file:\n",
        "    text = file.read()\n",
        "\n",
        "# Define regular expressions for extraction\n",
        "invoice_number_pattern = r\"Serial No\\. of Invoice:\\s*(\\S+)\"\n",
        "invoice_date_pattern = r\"Date of Invoice :\\s*(\\d{2}-\\d{2}-\\d{4})\"\n",
        "gst_number_pattern = r\"GSTIN:\\s*(\\S+)\"\n",
        "vendor_address_pattern = r\"URJAYANT ENGINEERING PVT LTD\\n(.+?)\\n\"\n",
        "buyer_name_pattern = r\"Name:\\s*(.+)\"\n",
        "buyer_address_pattern = r\"Address : (.+?)\\nContact No:\"\n",
        "\n",
        "item_details_pattern = r\"(\\d+)\\s+\\|(.+?)\\s+(\\d+)\\s+(.+)\\s+(\\d+\\.\\d+)\\s+(\\d+\\.\\d+)\"\n",
        "total_invoice_pattern = r\"Invoice Total\\s*\\n([\\d,]+)\\s*[\\w\\s%]+\\s*([\\d,]+)\\s*[\\w\\s%]+\\s*([\\d,]+)\"\n",
        "\n",
        "# Extract information using regular expressions\n",
        "invoice_number_match = re.search(invoice_number_pattern, text)\n",
        "invoice_number = invoice_number_match.group(1) if invoice_number_match else None\n",
        "\n",
        "invoice_date_match = re.search(invoice_date_pattern, text)\n",
        "invoice_date = invoice_date_match.group(1) if invoice_date_match else None\n",
        "\n",
        "gst_number_match = re.search(gst_number_pattern, text)\n",
        "gst_number = gst_number_match.group(1) if gst_number_match else None\n",
        "\n",
        "vendor_address_match = re.search(vendor_address_pattern, text)\n",
        "vendor_address = vendor_address_match.group(1) if vendor_address_match else None\n",
        "\n",
        "buyer_name_match = re.search(buyer_name_pattern, text)\n",
        "buyer_name = buyer_name_match.group(1) if buyer_name_match else None\n",
        "\n",
        "buyer_address_match = re.search(buyer_address_pattern, text)\n",
        "buyer_address = buyer_address_match.group(1) if buyer_address_match else None\n",
        "\n",
        "# Extract item details using regular expressions\n",
        "item_details = re.findall(item_details_pattern, text)\n",
        "item_details = [\n",
        "    {\"Code\": code.strip(), \"Description\": desc.strip(), \"Quantity\": qty, \"Unit\": unit, \"Rate\": rate, \"Total\": total}\n",
        "    for code, desc, qty, unit, rate, total in item_details\n",
        "]\n",
        "\n",
        "# Extract total invoice amount and tax amounts\n",
        "total_invoice_match = re.search(total_invoice_pattern, text)\n",
        "total_invoice_amount = total_invoice_match.group(1).replace(',', '') if total_invoice_match else None\n",
        "total_tax_amount = total_invoice_match.group(3).replace(',', '') if total_invoice_match else None\n",
        "\n",
        "# Create a dictionary with the extracted information\n",
        "extracted_info = {\n",
        "    \"Invoice Number\": invoice_number,\n",
        "    \"Invoice Date\": invoice_date,\n",
        "    \"GST Number\": gst_number,\n",
        "    \"Vendor Address\": vendor_address,\n",
        "    \"Buyer Name\": buyer_name,\n",
        "    \"Buyer Address\": buyer_address,\n",
        "    \"Item Details\": item_details,\n",
        "    \"Total Invoice Amount\": total_invoice_amount,\n",
        "    \"Total Tax Amount\": total_tax_amount\n",
        "}\n",
        "\n",
        "# Save the extracted information as a JSON file\n",
        "output_filename = \"structured_data1.json\"\n",
        "with open(output_filename, \"w\", encoding=\"utf-8\") as json_file:\n",
        "    json.dump(extracted_info, json_file, ensure_ascii=False, indent=4)\n",
        "\n",
        "print(f\"Extracted data saved to {output_filename}\")\n"
      ],
      "metadata": {
        "colab": {
          "base_uri": "https://localhost:8080/"
        },
        "id": "B6Gfccnz--Hn",
        "outputId": "1e22db4d-3acf-4539-a4bb-fbd8a1cd26cf"
      },
      "execution_count": 14,
      "outputs": [
        {
          "output_type": "stream",
          "name": "stdout",
          "text": [
            "Extracted data saved to structured_data1.json\n"
          ]
        }
      ]
    }
  ]
}