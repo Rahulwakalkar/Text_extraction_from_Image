{
 "cells": [
  {
   "cell_type": "code",
   "execution_count": 1,
   "id": "f154892e",
   "metadata": {},
   "outputs": [],
   "source": [
    "import json\n",
    "from PIL import Image\n",
    "import pytesseract\n",
    "import re\n",
    "import pandas as pd\n",
    "\n",
    "# Set the path to the Tesseract executable\n",
    "pytesseract.pytesseract.tesseract_cmd = r'C:\\Program Files\\Tesseract-OCR\\tesseract.exe'\n",
    "\n",
    "# List of image paths\n",
    "image_paths = [\"Urjayant Engineering Pvt. Ltd-1.jpg\", \"Vasav Precision Engg. Pvt. Ltd-1.jpg\",\n",
    "              \"Nirmala Precision Tools-1.jpg\", \"Okay Tools Pvt. Ltd-1.jpg\", \"Permali Wallace Pvt Ltd-1.jpg\",\"Pravin Traders-1.jpg\",\n",
    "              \"Rajhans Fabrication Pvt. Ltd-1.jpg\", \"Recherche Industries-1.jpg\",\"Shakuntech Packing Pvt. Ltd-1.jpg\",\"Shiv Om Fastners-1.jpg\",\n",
    "              \"Shubhada Polymers Products P.Ltd-1.jpg\", \"Sterling Fabory (India) Pvt. Ltd-1.jpg\", \"Supernova Waterjet Cutting Systems-1.jpg\",\n",
    "              \"Tanmay Engineering-1.jpg\",\"Trimbakeshwar Engineering Pvt. Ltd-1.jpg\"]\n",
    "\n",
    "# Initialize an empty list to store extracted texts\n",
    "extracted_texts = []\n",
    "\n",
    "# Loop through the image paths and extract text from each image\n",
    "for image_path in image_paths:\n",
    "    # Use pytesseract to extract text\n",
    "    extracted_text = pytesseract.image_to_string(Image.open(image_path))\n",
    "    extracted_texts.append(extracted_text)\n",
    "\n",
    "# Create a list of dictionaries to store extracted data\n",
    "extracted_data = []\n",
    "\n",
    "# Loop through the extracted texts and create dictionaries\n",
    "for i, extracted_text in enumerate(extracted_texts):\n",
    "    extracted_data.append({\"Image\": i + 1, \"Text\": extracted_text})\n",
    "\n",
    "# Save the extracted data to a JSON file\n",
    "with open(\"extracted_data.json\", \"w\", encoding=\"utf-8\") as json_file:\n",
    "    json.dump(extracted_data, json_file, ensure_ascii=False, indent=4)\n"
   ]
  },
  {
   "cell_type": "code",
   "execution_count": null,
   "id": "97ef7e53",
   "metadata": {},
   "outputs": [],
   "source": []
  }
 ],
 "metadata": {
  "kernelspec": {
   "display_name": "Python 3 (ipykernel)",
   "language": "python",
   "name": "python3"
  },
  "language_info": {
   "codemirror_mode": {
    "name": "ipython",
    "version": 3
   },
   "file_extension": ".py",
   "mimetype": "text/x-python",
   "name": "python",
   "nbconvert_exporter": "python",
   "pygments_lexer": "ipython3",
   "version": "3.9.12"
  }
 },
 "nbformat": 4,
 "nbformat_minor": 5
}
